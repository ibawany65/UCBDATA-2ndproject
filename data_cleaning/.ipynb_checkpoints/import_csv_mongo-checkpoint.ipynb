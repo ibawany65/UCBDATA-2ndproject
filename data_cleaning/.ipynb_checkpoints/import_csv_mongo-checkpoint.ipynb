{
 "cells": [
  {
   "cell_type": "code",
   "execution_count": 1,
   "metadata": {},
   "outputs": [],
   "source": [
    "import pandas as pd\n",
    "import pymongo\n",
    "import json\n",
    "import os"
   ]
  },
  {
   "cell_type": "code",
   "execution_count": null,
   "metadata": {},
   "outputs": [],
   "source": [
    "def import_csvfile(filepath):\n",
    " mng_client = pymongo.MongoClient('localhost', 27017)\n",
    " mng_db = mng_client['cookcounty_db'] # Replace mongo db name\n",
    " collection_name = 'cookcounty_data' # Replace mongo db collection name\n",
    " db_cm = mng_db[collection_name]\n",
    " cdir = os.path.dirname(__file__)\n",
    " file_res = os.path.join(cdir, filepath)\n",
    " data = pd.read_csv(file_res)\n",
    " data_json = json.loads(data.to_json(orient='records'))\n",
    " db_cm.remove()\n",
    " db_cm.insert(data_json)\n",
    "if __name__ == \"__main__\":\n",
    " filepath = 'cook_county_data.csv' # pass csv file path\n",
    " import_csvfile(filepath)"
   ]
  }
 ],
 "metadata": {
  "kernelspec": {
   "display_name": "Python 3",
   "language": "python",
   "name": "python3"
  },
  "language_info": {
   "codemirror_mode": {
    "name": "ipython",
    "version": 3
   },
   "file_extension": ".py",
   "mimetype": "text/x-python",
   "name": "python",
   "nbconvert_exporter": "python",
   "pygments_lexer": "ipython3",
   "version": "3.7.3"
  }
 },
 "nbformat": 4,
 "nbformat_minor": 2
}
