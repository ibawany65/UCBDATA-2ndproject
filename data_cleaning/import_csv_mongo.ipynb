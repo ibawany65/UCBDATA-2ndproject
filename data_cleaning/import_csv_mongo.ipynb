{
 "cells": [
  {
   "cell_type": "code",
   "execution_count": 8,
   "metadata": {},
   "outputs": [],
   "source": [
    "import pandas as pd\n",
    "import pymongo\n",
    "import json\n",
    "import os"
   ]
  },
  {
   "cell_type": "code",
   "execution_count": 9,
   "metadata": {},
   "outputs": [
    {
     "name": "stderr",
     "output_type": "stream",
     "text": [
      "/Users/dan/miniconda3/lib/python3.7/site-packages/ipykernel_launcher.py:10: DeprecationWarning: remove is deprecated. Use delete_one or delete_many instead.\n",
      "  # Remove the CWD from sys.path while we load stuff.\n",
      "/Users/dan/miniconda3/lib/python3.7/site-packages/ipykernel_launcher.py:11: DeprecationWarning: insert is deprecated. Use insert_one or insert_many instead.\n",
      "  # This is added back by InteractiveShellApp.init_path()\n"
     ]
    }
   ],
   "source": [
    "def import_csvfile(filepath):\n",
    " mng_client = pymongo.MongoClient('localhost', 27017)\n",
    " mng_db = mng_client['cookcounty_db'] # Replace mongo db name\n",
    " collection_name = 'cookcounty_data' # Replace mongo db collection name\n",
    " db_cm = mng_db[collection_name]\n",
    " cdir = os.path.dirname('__file__')\n",
    " file_res = os.path.join(cdir, filepath)\n",
    " data = pd.read_csv(file_res)\n",
    " data_json = json.loads(data.to_json(orient='records'))\n",
    " db_cm.remove()\n",
    " db_cm.insert(data_json)\n",
    "if __name__ == \"__main__\":\n",
    " filepath = 'cook_county_data.csv' # pass csv file path\n",
    " import_csvfile(filepath)"
   ]
  },
  {
   "cell_type": "code",
   "execution_count": null,
   "metadata": {},
   "outputs": [],
   "source": []
  }
 ],
 "metadata": {
  "kernelspec": {
   "display_name": "Python 3",
   "language": "python",
   "name": "python3"
  },
  "language_info": {
   "codemirror_mode": {
    "name": "ipython",
    "version": 3
   },
   "file_extension": ".py",
   "mimetype": "text/x-python",
   "name": "python",
   "nbconvert_exporter": "python",
   "pygments_lexer": "ipython3",
   "version": "3.6.9"
  }
 },
 "nbformat": 4,
 "nbformat_minor": 4
}
